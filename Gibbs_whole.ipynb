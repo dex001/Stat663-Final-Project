{
 "cells": [
  {
   "cell_type": "code",
   "execution_count": 11,
   "metadata": {
    "collapsed": true
   },
   "outputs": [],
   "source": [
    "import numpy as np\n",
    "from scipy import stats\n",
    "import scipy.io\n",
    "from matplotlib import pyplot as plt\n",
    "import time\n",
    "import pstats"
   ]
  },
  {
   "cell_type": "code",
   "execution_count": 12,
   "metadata": {
    "collapsed": true
   },
   "outputs": [],
   "source": [
    "def Gibbs_whole(G, Y, T):\n",
    "    # Gibbs sampling for GCHMMs with inference and parameter estimation\n",
    "    # G: non-symmetric social networks\n",
    "    # Y: evidence, observed data\n",
    "    # T: num. of iterations\n",
    "    N, _, D = G.shape\n",
    "    _, S, _ = Y.shape\n",
    "    \n",
    "    ## Initialization\n",
    "    X = np.zeros((N,D+1))\n",
    "    R = np.zeros((N,D))\n",
    "    #hyperparameters\n",
    "    ap=2; bp=2; aa=2; ba=5; ab=2; bb=5; ar=2; br=5; \n",
    "    a1=2; b1=2; a0=2; b0=5;\n",
    "    xi = stats.beta.rvs(ap, bp, size=1)\n",
    "    alpha = stats.beta.rvs(aa,ba,size=1)\n",
    "    beta = stats.beta.rvs(ab,bb,size=1)\n",
    "    gamma = stats.beta.rvs(ar,br,size=1)\n",
    "    theta1 = stats.beta.rvs(a1,b1,size=(1,S)) \n",
    "    theta0 = stats.beta.rvs(a0,b0,size=(1,S)) \n",
    "    \n",
    "    ##Iterative Sampling\n",
    "    B = T/2 # Burn-in from Iteration B\n",
    "    Xbi = X # Burn-in for X\n",
    "    parabi = np.zeros((1,2*S+4)) # Burn-in for all parameters\n",
    "    NPI = np.zeros((N,D)) # Num. of previous infection\n",
    "\n",
    "    for t in range(T):\n",
    "        # Update the initial X, root\n",
    "        NPI[:,0] = NumPreInf(X[:,0],G[:,:,0]);\n",
    "        p1 = xi*(gamma**np.array(X[:,1]==0)*(1-gamma)**np.array(X[:,1]))\n",
    "        p0 = (1-xi)*(1-(1-alpha)*(1-beta)**NPI[:,0])**X[:,1]*((1-alpha)*(1-beta)**NPI[:,0])**(X[:,1]==0)\n",
    "        p = p1 / (p0+p1)\n",
    "        X[:,0] = 0+(np.random.rand(N,)<=p)\n",
    "    \n",
    "        # Update intermediate X\n",
    "        for i in range(1,D):\n",
    "            NPI[:,i-1] = NumPreInf(X[:,i-1],G[:,:,i-1])\n",
    "            NPI[:,i] = NumPreInf(X[:,i],G[:,:,i])\n",
    "            tmp1 = np.exp(Y[:,:,i-1] @ np.log(theta1.T))*np.exp((1-Y[:,:,i-1]) @ np.log(1-theta1.T))\n",
    "            p1 = gamma**(X[:,i+1]==0)*(1-gamma)**(X[:,i-1]+X[:,i+1])*(1-(1-alpha)*(1-beta)**NPI[:,i-1])**(X[:,i-1]==0) * tmp1.reshape((N,))\n",
    "            tmp0 = np.exp(Y[:,:,i-1] @ np.log(theta0.T))*np.exp((1-Y[:,:,i-1]) @ np.log(1-theta0.T))\n",
    "            p0 = gamma**X[:,i-1]*(1-(1-alpha)*(1-beta)**NPI[:,i])**X[:,i+1]*(1-alpha)**((X[:,i-1]==0)+(X[:,i+1]==0))*(1-beta)**(NPI[:,i-1]*(X[:,i-1]==0)+NPI[:,i]*(X[:,i+1]==0))*tmp0.reshape((N,))\n",
    "            p = p1 / (p0+p1)\n",
    "            X[:,i] = 0+(np.random.rand(N,)<=p)\n",
    "        \n",
    "        # Updata last X\n",
    "        NPI[:,D-1] = NumPreInf(X[:,D],G[:,:,D-1])\n",
    "        tmp1 = np.exp(Y[:,:,D-1] @ np.log(theta1.T))* np.exp((1-Y[:,:,D-1]) @ np.log(1-theta1.T))\n",
    "        p1 = (1-gamma)**X[:,D-1]*(1-(1-alpha)*(1-beta)**NPI[:,D-1])**(X[:,D-1]==0)*tmp1.reshape((N,))\n",
    "        tmp0 = np.exp(Y[:,:,D-1] @ np.log(theta0.T))*np.exp((1-Y[:,:,D-1]) @ np.log(1-theta0.T))\n",
    "        p0 = gamma**X[:,D-1]*((1-alpha)*(1-beta)**NPI[:,D-1])**(X[:,D-1]==0)*tmp0.reshape((N,))\n",
    "        p = p1/(p0+p1)\n",
    "        X[:,D] = 0+(np.random.rand(N,)<=p)\n",
    "        \n",
    "        # Update auxiliary variable R: prob p has various approximations\n",
    "        # p = min(alpha./(1-(1-alpha)*(1-beta).^NPI),1);\n",
    "        # p = min(0.5*alpha*(1+(1-beta).^NPI)./(1-(1-alpha)*(1-beta).^NPI),1);\n",
    "        # p = min(alpha*(1-beta).^NPI./(1-(1-alpha)*(1-beta).^NPI),1); \n",
    "        p = alpha / (alpha+beta * NPI)\n",
    "        tmp = 2 - (np.random.rand(N,D) <= p)\n",
    "        R = (X[:,0:D]==0)*X[:,1:]*tmp\n",
    "        \n",
    "        # Update parameters\n",
    "        xi = stats.beta.rvs(ap+sum(X[:,0]),bp+N-sum(X[:,0]),size=1)\n",
    "        gamma = stats.beta.rvs(ar+np.sum(X[:,0:D]*(X[:,1:]==0)),br+np.sum(X[:,0:D]*X[:,1:]))\n",
    "        alpha = stats.beta.rvs(aa+np.sum(R==1),ba+ np.sum((X[:,0:D]==0)*(X[:,1:]==0))+np.sum(R==2))\n",
    "        beta = stats.beta.rvs(ab+np.sum(R>1),bb+np.sum(NPI*((X[:,0:D]==0)^(R>1))))\n",
    "    \n",
    "        temp = np.transpose(np.repeat(np.expand_dims(X[:,1:], axis=2),S, axis = 2), axes = [0, 2, 1])\n",
    "        theta1 = stats.beta.rvs(a1+np.sum(Y*temp, axis=(0,2)), b1+ np.sum((1-Y)*temp, axis=(0,2)), size = S).reshape((1,S))\n",
    "        theta0 = stats.beta.rvs(a0+np.sum(Y*(temp==0), axis=(0,2)), b0+ np.sum((1-Y)*(temp==0), axis=(0,2)), size = S).reshape((1,S))\n",
    "        \n",
    "        # Burn-in\n",
    "        if t>B:\n",
    "            Xbi = Xbi + X\n",
    "            parabi = parabi + np.c_[xi,alpha,beta,gamma,theta1,theta0]\n",
    "    # prediction\n",
    "    Xpred = Xbi/(T-B)\n",
    "    parapred = parabi/(T-B)\n",
    "    return [Xpred, parapred]\n",
    "\n",
    "def NumPreInf(Xt, Gt):\n",
    "    return ((Gt + Gt.T) > 0) @ Xt"
   ]
  },
  {
   "cell_type": "code",
   "execution_count": 13,
   "metadata": {
    "collapsed": true
   },
   "outputs": [],
   "source": [
    "Y = scipy.io.loadmat('Y.mat')['Y']\n",
    "X = scipy.io.loadmat('X.mat')['X']\n",
    "G = scipy.io.loadmat('G.mat')['G']"
   ]
  },
  {
   "cell_type": "code",
   "execution_count": 14,
   "metadata": {
    "collapsed": true
   },
   "outputs": [],
   "source": [
    "missing_rate = 0\n",
    "mask = stats.bernoulli.rvs(missing_rate, size = Y.shape)\n",
    "Ymask = Y * mask\n",
    "Ytrue = Y * (1 - mask)"
   ]
  },
  {
   "cell_type": "code",
   "execution_count": 15,
   "metadata": {
    "collapsed": true
   },
   "outputs": [],
   "source": [
    "def work_whole(G, Y, T = 500):\n",
    "    Gibbs_whole(G, Y, T = 500)"
   ]
  },
  {
   "cell_type": "code",
   "execution_count": 16,
   "metadata": {
    "collapsed": false
   },
   "outputs": [
    {
     "name": "stdout",
     "output_type": "stream",
     "text": [
      " \n",
      "*** Profile stats marshalled to file 'Gibbs_whole.prof'. \n"
     ]
    }
   ],
   "source": [
    "%prun -q -D Gibbs_whole.prof Gibbs_whole(G, Y, T = 500)"
   ]
  },
  {
   "cell_type": "code",
   "execution_count": 17,
   "metadata": {
    "collapsed": false
   },
   "outputs": [
    {
     "name": "stdout",
     "output_type": "stream",
     "text": [
      "Mon May  1 01:13:05 2017    work_big.prof\n",
      "\n",
      "         524723 function calls in 11.558 seconds\n",
      "\n",
      "   Ordered by: internal time, cumulative time\n",
      "   List reduced from 64 to 10 due to restriction <10>\n",
      "\n",
      "   ncalls  tottime  percall  cumtime  percall filename:lineno(function)\n",
      "        1    6.767    6.767   11.558   11.558 <ipython-input-24-74a7d184eb53>:1(Gibbs_big)\n",
      "   107000    3.266    0.000    3.266    0.000 <ipython-input-24-74a7d184eb53>:83(NumPreInf)\n",
      "    13512    0.553    0.000    0.553    0.000 {method 'reduce' of 'numpy.ufunc' objects}\n",
      "    54500    0.270    0.000    0.270    0.000 {method 'rand' of 'mtrand.RandomState' objects}\n",
      "      500    0.116    0.000    0.116    0.000 {method 'repeat' of 'numpy.ndarray' objects}\n",
      "   110004    0.115    0.000    0.115    0.000 {method 'reshape' of 'numpy.ndarray' objects}\n",
      "     3006    0.054    0.000    0.416    0.000 /opt/conda/lib/python3.5/site-packages/scipy/stats/_distn_infrastructure.py:909(rvs)\n",
      "     4000    0.040    0.000    0.053    0.000 /opt/conda/lib/python3.5/site-packages/numpy/lib/stride_tricks.py:57(_broadcast_to)\n",
      "    35295    0.038    0.000    0.038    0.000 {built-in method numpy.core.multiarray.array}\n",
      "     3006    0.033    0.000    0.206    0.000 /opt/conda/lib/python3.5/site-packages/scipy/stats/_distn_infrastructure.py:789(_argcheck_rvs)\n",
      "\n",
      "\n"
     ]
    }
   ],
   "source": [
    "p = pstats.Stats('work_big.prof')\n",
    "p.sort_stats('time', 'cumulative').print_stats(10)\n",
    "pass"
   ]
  }
 ],
 "metadata": {
  "kernelspec": {
   "display_name": "Python 3",
   "language": "python",
   "name": "python3"
  },
  "language_info": {
   "codemirror_mode": {
    "name": "ipython",
    "version": 3
   },
   "file_extension": ".py",
   "mimetype": "text/x-python",
   "name": "python",
   "nbconvert_exporter": "python",
   "pygments_lexer": "ipython3",
   "version": "3.5.2"
  }
 },
 "nbformat": 4,
 "nbformat_minor": 2
}
